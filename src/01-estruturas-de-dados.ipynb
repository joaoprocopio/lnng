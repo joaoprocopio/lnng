{
 "cells": [
  {
   "cell_type": "markdown",
   "id": "1a9ed331",
   "metadata": {},
   "source": [
    "# big o notation\n",
    "\n",
    "denota desempenho de algoritmos, não necessariamente performance.\n",
    "\n",
    "avalia como um algoritmo escala conforme o tamanho do input.\n",
    "\n",
    "não necessariamente você pode dizer que um algoritmo O(n) é mais rápido que um algoritmo O(n^2).\n",
    "\n",
    "quem define a velocidade é a análise assintótica.\n",
    "\n",
    "o papel do big é dizer o quão bem ou mal o algoritmo vai escalar com o tamanho do input.\n",
    "\n",
    "big O avalia duas coisas:\n",
    "1. complexidade temporal:\n",
    "    - runtime\n",
    "    - quantidade de operações necessárias por ciclo\n",
    "2. complexidade espacial\n",
    "    - memória\n",
    "    - quanto da memória é utilizada"
   ]
  },
  {
   "cell_type": "markdown",
   "id": "2a0d81a0",
   "metadata": {},
   "source": [
    "# escalas de big o"
   ]
  },
  {
   "cell_type": "code",
   "execution_count": null,
   "id": "b58c0421",
   "metadata": {},
   "outputs": [],
   "source": [
    "'''\n",
    "o(1): constante\n",
    "\n",
    "independente do tamanho do input, a complexidade é igual.\n",
    "'''\n",
    "\n",
    "import random\n",
    "\n",
    "# essa função sempre o primeiro item da lista;\n",
    "# logo a complexidade temporal dela é o(1), já que é fixa a posição de acesso ao array.\n",
    "def o_1_temporal(li: list[int]):\n",
    "    return li[0]\n",
    "\n",
    "# o objetivo dessa função é encontrar o maior elemento de um input.\n",
    "# sabendo disso independente do input, vamos sempre alocar *uma* única variável em memória.\n",
    "def o_1_espacial_1(li: list[int]):\n",
    "    n = max(li)\n",
    "\n",
    "    return n\n",
    "\n",
    "# o mesmo vale se por exemplo você quiser encontrar os 3 maiores items do array.\n",
    "# a complexidade espacial continua sendo linear, já que independe do input.\n",
    "def o_1_espacial_2(li: list[int]) -> tuple[int, int, int]:\n",
    "    li = sorted(li, reverse=True)\n",
    "    print(li)\n",
    "\n",
    "    return (li[0], li[1], li[2])\n",
    "\n",
    "\n",
    "\n",
    "\n",
    "o_1_espacial_2([random.randint(0, 100) for _ in range(100)])"
   ]
  }
 ],
 "metadata": {
  "kernelspec": {
   "display_name": "lnng",
   "language": "python",
   "name": "python3"
  },
  "language_info": {
   "codemirror_mode": {
    "name": "ipython",
    "version": 3
   },
   "file_extension": ".py",
   "mimetype": "text/x-python",
   "name": "python",
   "nbconvert_exporter": "python",
   "pygments_lexer": "ipython3",
   "version": "3.14.0"
  }
 },
 "nbformat": 4,
 "nbformat_minor": 5
}
